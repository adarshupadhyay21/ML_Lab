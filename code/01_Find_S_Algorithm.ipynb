{
  "cells": [
    {
      "cell_type": "code",
      "execution_count": 1,
      "metadata": {
        "id": "SMfFlcpPDO_w"
      },
      "outputs": [],
      "source": [
        "def find_s_algorithm(dataset):\n",
        "    # Initialize the hypothesis with the first positive example\n",
        "    hypothesis = dataset[0][:-1]  # Assuming the last element is the class label\n",
        "\n",
        "    # Iterate through the positive examples in the dataset\n",
        "    for example in dataset:\n",
        "        if example[-1] == '1':  # Assuming '1' represents a positive class label\n",
        "            for i in range(len(hypothesis)):\n",
        "                if example[i] != hypothesis[i]:\n",
        "                    hypothesis[i] = '?'  # Update the hypothesis with '?' for non-matching attributes\n",
        "\n",
        "    return hypothesis"
      ]
    },
    {
      "cell_type": "code",
      "execution_count": 2,
      "metadata": {
        "id": "HT1iTGzpDv1L"
      },
      "outputs": [],
      "source": [
        "# Example dataset with a binary class label (0 or 1)\n",
        "dataset = [\n",
        "    ['Japan', 'Honda', 'Blue', '2020', 'Eco', '1'],\n",
        "    ['Japan','Toyota','Green','2022','Sport','0'],\n",
        "    ['Japan','Toyota','Blue','2019','Eco','1'],\n",
        "    ['USA','Audi','Red','2018','Eco','0'],\n",
        "    ['Japan','Honda','White','2023','Eco','1'],\n",
        "    ['Japan','Toyota','Green','2016','Eco','1'],\n",
        "    ['Japan','Honda','Red','2017','Eco','0']\n",
        "]"
      ]
    },
    {
      "cell_type": "code",
      "execution_count": 3,
      "metadata": {
        "colab": {
          "base_uri": "https://localhost:8080/"
        },
        "id": "-X4txJtMDxlB",
        "outputId": "d33fcecd-ec63-4766-cef3-fb588cc6c724"
      },
      "outputs": [
        {
          "name": "stdout",
          "output_type": "stream",
          "text": [
            "Final Hypothesis: ['Japan', '?', '?', '?', 'Eco']\n"
          ]
        }
      ],
      "source": [
        "result_hypothesis = find_s_algorithm(dataset)\n",
        "print(\"Final Hypothesis:\", result_hypothesis)"
      ]
    }
  ],
  "metadata": {
    "colab": {
      "provenance": []
    },
    "kernelspec": {
      "display_name": "Python 3",
      "name": "python3"
    },
    "language_info": {
      "codemirror_mode": {
        "name": "ipython",
        "version": 3
      },
      "file_extension": ".py",
      "mimetype": "text/x-python",
      "name": "python",
      "nbconvert_exporter": "python",
      "pygments_lexer": "ipython3",
      "version": "3.12.0"
    }
  },
  "nbformat": 4,
  "nbformat_minor": 0
}
